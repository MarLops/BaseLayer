{
 "cells": [
  {
   "cell_type": "markdown",
   "id": "precise-flexibility",
   "metadata": {},
   "source": [
    "# Load grid and test"
   ]
  },
  {
   "cell_type": "code",
   "execution_count": 1,
   "id": "accurate-concern",
   "metadata": {},
   "outputs": [],
   "source": [
    "from baseLayer import base\n",
    "from sklearn import svm, datasets\n",
    "from sklearn.model_selection import GridSearchCV\n",
    "import pandas as pd\n",
    "from sklearn.model_selection import train_test_split, cross_val_score, GridSearchCV\n",
    "from sklearn.linear_model import LogisticRegression\n",
    "from sklearn.preprocessing import StandardScaler, PolynomialFeatures\n",
    "from sklearn.pipeline import Pipeline\n",
    "import pickle"
   ]
  },
  {
   "cell_type": "code",
   "execution_count": 2,
   "id": "african-cable",
   "metadata": {},
   "outputs": [
    {
     "data": {
      "text/plain": [
       "'\\nclass ZeroTransform(base.LayerFitTransformSklearn):\\n    def _function_fit(self,X,y,limir=2000):\\n        response = list()\\n        for column in X.columns:\\n            if len(X[X[column] < 5]) < limir:\\n                response.append(column)\\n        return {\"column_name\":response}\\n    \\n    def _function_transform(self,X,column_name):\\n        for column in column_name:\\n            X[column_name] = 0\\n        return X\\n'"
      ]
     },
     "execution_count": 2,
     "metadata": {},
     "output_type": "execute_result"
    }
   ],
   "source": [
    "# É necessário importar a classe que foi criado\n",
    "class ZeroTransform(base.LayerFitTransformSklearn):\n",
    "    def _function_fit(self,X,y,limir=2000):\n",
    "        response = list()\n",
    "        for column in X.columns:\n",
    "            if len(X[X[column] < 5]) < limir:\n",
    "                response.append(column)\n",
    "        return {\"column_name\":response}\n",
    "    \n",
    "    def _function_transform(self,X,column_name):\n",
    "        for column in column_name:\n",
    "            X[column_name] = 0\n",
    "        return X\n"
   ]
  },
  {
   "cell_type": "code",
   "execution_count": 3,
   "id": "settled-stand",
   "metadata": {},
   "outputs": [],
   "source": [
    "df = pd.read_csv('reddit_posts.csv')\n",
    "df.drop('Unnamed: 0', axis=1, inplace=True)\n",
    "X = df[['gilded', 'num_comments', 'num_crossposts', 'ups']]\n",
    "y = df['subreddit']"
   ]
  },
  {
   "cell_type": "code",
   "execution_count": 4,
   "id": "revised-nothing",
   "metadata": {},
   "outputs": [
    {
     "ename": "AttributeError",
     "evalue": "Can't get attribute 'ZeroTransform' on <module '__main__'>",
     "output_type": "error",
     "traceback": [
      "\u001b[0;31m---------------------------------------------------------------------------\u001b[0m",
      "\u001b[0;31mAttributeError\u001b[0m                            Traceback (most recent call last)",
      "\u001b[0;32m<ipython-input-4-b1c465deafd4>\u001b[0m in \u001b[0;36m<module>\u001b[0;34m\u001b[0m\n\u001b[1;32m      1\u001b[0m \u001b[0mgrid_reloaded\u001b[0m \u001b[0;34m=\u001b[0m \u001b[0;32mNone\u001b[0m\u001b[0;34m\u001b[0m\u001b[0;34m\u001b[0m\u001b[0m\n\u001b[1;32m      2\u001b[0m \u001b[0;32mwith\u001b[0m \u001b[0mopen\u001b[0m\u001b[0;34m(\u001b[0m\u001b[0;34m\"grid_pickle_test\"\u001b[0m\u001b[0;34m,\u001b[0m \u001b[0;34m'rb'\u001b[0m\u001b[0;34m)\u001b[0m \u001b[0;32mas\u001b[0m \u001b[0mhandle\u001b[0m\u001b[0;34m:\u001b[0m\u001b[0;34m\u001b[0m\u001b[0;34m\u001b[0m\u001b[0m\n\u001b[0;32m----> 3\u001b[0;31m     \u001b[0mgrid_reloaded\u001b[0m \u001b[0;34m=\u001b[0m \u001b[0mpickle\u001b[0m\u001b[0;34m.\u001b[0m\u001b[0mload\u001b[0m\u001b[0;34m(\u001b[0m\u001b[0mhandle\u001b[0m\u001b[0;34m)\u001b[0m\u001b[0;34m\u001b[0m\u001b[0;34m\u001b[0m\u001b[0m\n\u001b[0m",
      "\u001b[0;31mAttributeError\u001b[0m: Can't get attribute 'ZeroTransform' on <module '__main__'>"
     ]
    }
   ],
   "source": [
    "grid_reloaded = None\n",
    "with open(\"grid_pickle_test\", 'rb') as handle:\n",
    "    grid_reloaded = pickle.load(handle)"
   ]
  },
  {
   "cell_type": "code",
   "execution_count": null,
   "id": "israeli-selling",
   "metadata": {},
   "outputs": [],
   "source": [
    "grid_reloaded.predict(X)"
   ]
  },
  {
   "cell_type": "code",
   "execution_count": null,
   "id": "hazardous-warren",
   "metadata": {},
   "outputs": [],
   "source": []
  },
  {
   "cell_type": "code",
   "execution_count": null,
   "id": "grand-christian",
   "metadata": {},
   "outputs": [],
   "source": []
  },
  {
   "cell_type": "code",
   "execution_count": null,
   "id": "engaging-flash",
   "metadata": {},
   "outputs": [],
   "source": []
  },
  {
   "cell_type": "code",
   "execution_count": null,
   "id": "starting-stanley",
   "metadata": {},
   "outputs": [],
   "source": []
  }
 ],
 "metadata": {
  "kernelspec": {
   "display_name": "Python 3",
   "language": "python",
   "name": "python3"
  },
  "language_info": {
   "codemirror_mode": {
    "name": "ipython",
    "version": 3
   },
   "file_extension": ".py",
   "mimetype": "text/x-python",
   "name": "python",
   "nbconvert_exporter": "python",
   "pygments_lexer": "ipython3",
   "version": "3.8.5"
  }
 },
 "nbformat": 4,
 "nbformat_minor": 5
}
